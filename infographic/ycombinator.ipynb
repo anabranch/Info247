{
 "metadata": {
  "name": "",
  "signature": "sha256:7b0497f5ec7dd7223f0cb30941591368852ace8155642aec400f2ff13ff37493"
 },
 "nbformat": 3,
 "nbformat_minor": 0,
 "worksheets": [
  {
   "cells": [
    {
     "cell_type": "code",
     "collapsed": false,
     "input": [
      "%matplotlib inline\n",
      "import pandas as pd\n",
      "import numpy as np\n",
      "import scipy as sp\n",
      "from scipy import stats"
     ],
     "language": "python",
     "metadata": {},
     "outputs": [],
     "prompt_number": 28
    },
    {
     "cell_type": "code",
     "collapsed": false,
     "input": [
      "pd.read_html(\"http://www.seed-db.com/accelerators/view?acceleratorid=1011\")"
     ],
     "language": "python",
     "metadata": {},
     "outputs": []
    },
    {
     "cell_type": "code",
     "collapsed": false,
     "input": [
      "time = pd.read_html('data/ycombinator.txt')\n",
      "# src: http://www.seed-db.com/accelerators/view?acceleratorid=1011"
     ],
     "language": "python",
     "metadata": {},
     "outputs": [],
     "prompt_number": 58
    },
    {
     "cell_type": "code",
     "collapsed": false,
     "input": [
      "df = time[0]"
     ],
     "language": "python",
     "metadata": {},
     "outputs": [],
     "prompt_number": 59
    },
    {
     "cell_type": "code",
     "collapsed": false,
     "input": [
      "df.columns = ['state','name','web','date','exit','rand','fund']"
     ],
     "language": "python",
     "metadata": {},
     "outputs": [],
     "prompt_number": 60
    },
    {
     "cell_type": "code",
     "collapsed": false,
     "input": [
      "z = lambda x: pd.datetime(int(x.split('/')[1]), int(x.split('/')[0]), 1)"
     ],
     "language": "python",
     "metadata": {},
     "outputs": [],
     "prompt_number": 61
    },
    {
     "cell_type": "code",
     "collapsed": false,
     "input": [
      "df['date'] = df.date.apply(z)"
     ],
     "language": "python",
     "metadata": {},
     "outputs": [],
     "prompt_number": 62
    },
    {
     "cell_type": "code",
     "collapsed": false,
     "input": [
      "df['year'] = df.date.map(lambda x: x.year)"
     ],
     "language": "python",
     "metadata": {},
     "outputs": [],
     "prompt_number": 63
    },
    {
     "cell_type": "code",
     "collapsed": false,
     "input": [
      "df['cohort'] = df.date.map(lambda x: x.month)"
     ],
     "language": "python",
     "metadata": {},
     "outputs": [],
     "prompt_number": 64
    },
    {
     "cell_type": "code",
     "collapsed": false,
     "input": [
      "df['cohort'] = df.cohort.map({1:'Winter',6:'Summer'})"
     ],
     "language": "python",
     "metadata": {},
     "outputs": [],
     "prompt_number": 65
    },
    {
     "cell_type": "code",
     "collapsed": false,
     "input": [
      "# df['state'] = df.state.astype(pd.Categorical)"
     ],
     "language": "python",
     "metadata": {},
     "outputs": [],
     "prompt_number": 66
    },
    {
     "cell_type": "code",
     "collapsed": false,
     "input": [
      "test = \"$ 20,000,000\"\n",
      "def money_to_reg(data):\n",
      "\n",
      "    if data is np.nan:\n",
      "        return np.nan\n",
      "    data = data.strip('$')\n",
      "    data = int(''.join(data.split(',')))\n",
      "    return data\n",
      "money_to_reg(test)"
     ],
     "language": "python",
     "metadata": {},
     "outputs": [
      {
       "metadata": {},
       "output_type": "pyout",
       "prompt_number": 67,
       "text": [
        "20000000"
       ]
      }
     ],
     "prompt_number": 67
    },
    {
     "cell_type": "code",
     "collapsed": false,
     "input": [
      "df['exit'] = df.exit.map(money_to_reg)"
     ],
     "language": "python",
     "metadata": {},
     "outputs": [],
     "prompt_number": 68
    },
    {
     "cell_type": "code",
     "collapsed": false,
     "input": [
      "df['fund'] = df.fund.map(money_to_reg)"
     ],
     "language": "python",
     "metadata": {},
     "outputs": [],
     "prompt_number": 69
    },
    {
     "cell_type": "code",
     "collapsed": false,
     "input": [
      "del(df['web'])"
     ],
     "language": "python",
     "metadata": {},
     "outputs": [],
     "prompt_number": 70
    },
    {
     "cell_type": "code",
     "collapsed": false,
     "input": [
      "step1 = df.groupby('date')['state'].value_counts().reset_index()\n",
      "step1.head()"
     ],
     "language": "python",
     "metadata": {},
     "outputs": [
      {
       "html": [
        "<div style=\"max-height:1000px;max-width:1500px;overflow:auto;\">\n",
        "<table border=\"1\" class=\"dataframe\">\n",
        "  <thead>\n",
        "    <tr style=\"text-align: right;\">\n",
        "      <th></th>\n",
        "      <th>date</th>\n",
        "      <th>level_1</th>\n",
        "      <th>0</th>\n",
        "    </tr>\n",
        "  </thead>\n",
        "  <tbody>\n",
        "    <tr>\n",
        "      <th>0</th>\n",
        "      <td>2005-06-01</td>\n",
        "      <td>    Exited</td>\n",
        "      <td> 5</td>\n",
        "    </tr>\n",
        "    <tr>\n",
        "      <th>1</th>\n",
        "      <td>2005-06-01</td>\n",
        "      <td>      Dead</td>\n",
        "      <td> 2</td>\n",
        "    </tr>\n",
        "    <tr>\n",
        "      <th>2</th>\n",
        "      <td>2005-06-01</td>\n",
        "      <td> Operating</td>\n",
        "      <td> 1</td>\n",
        "    </tr>\n",
        "    <tr>\n",
        "      <th>3</th>\n",
        "      <td>2006-01-01</td>\n",
        "      <td>    Exited</td>\n",
        "      <td> 4</td>\n",
        "    </tr>\n",
        "    <tr>\n",
        "      <th>4</th>\n",
        "      <td>2006-01-01</td>\n",
        "      <td> Operating</td>\n",
        "      <td> 2</td>\n",
        "    </tr>\n",
        "  </tbody>\n",
        "</table>\n",
        "</div>"
       ],
       "metadata": {},
       "output_type": "pyout",
       "prompt_number": 71,
       "text": [
        "        date    level_1  0\n",
        "0 2005-06-01     Exited  5\n",
        "1 2005-06-01       Dead  2\n",
        "2 2005-06-01  Operating  1\n",
        "3 2006-01-01     Exited  4\n",
        "4 2006-01-01  Operating  2"
       ]
      }
     ],
     "prompt_number": 71
    },
    {
     "cell_type": "code",
     "collapsed": false,
     "input": [
      "step1.columns = ['date','level','val']"
     ],
     "language": "python",
     "metadata": {},
     "outputs": [],
     "prompt_number": 72
    },
    {
     "cell_type": "code",
     "collapsed": false,
     "input": [
      "step1.head()"
     ],
     "language": "python",
     "metadata": {},
     "outputs": [
      {
       "html": [
        "<div style=\"max-height:1000px;max-width:1500px;overflow:auto;\">\n",
        "<table border=\"1\" class=\"dataframe\">\n",
        "  <thead>\n",
        "    <tr style=\"text-align: right;\">\n",
        "      <th></th>\n",
        "      <th>date</th>\n",
        "      <th>level</th>\n",
        "      <th>val</th>\n",
        "    </tr>\n",
        "  </thead>\n",
        "  <tbody>\n",
        "    <tr>\n",
        "      <th>0</th>\n",
        "      <td>2005-06-01</td>\n",
        "      <td>    Exited</td>\n",
        "      <td> 5</td>\n",
        "    </tr>\n",
        "    <tr>\n",
        "      <th>1</th>\n",
        "      <td>2005-06-01</td>\n",
        "      <td>      Dead</td>\n",
        "      <td> 2</td>\n",
        "    </tr>\n",
        "    <tr>\n",
        "      <th>2</th>\n",
        "      <td>2005-06-01</td>\n",
        "      <td> Operating</td>\n",
        "      <td> 1</td>\n",
        "    </tr>\n",
        "    <tr>\n",
        "      <th>3</th>\n",
        "      <td>2006-01-01</td>\n",
        "      <td>    Exited</td>\n",
        "      <td> 4</td>\n",
        "    </tr>\n",
        "    <tr>\n",
        "      <th>4</th>\n",
        "      <td>2006-01-01</td>\n",
        "      <td> Operating</td>\n",
        "      <td> 2</td>\n",
        "    </tr>\n",
        "  </tbody>\n",
        "</table>\n",
        "</div>"
       ],
       "metadata": {},
       "output_type": "pyout",
       "prompt_number": 80,
       "text": [
        "        date      level  val\n",
        "0 2005-06-01     Exited    5\n",
        "1 2005-06-01       Dead    2\n",
        "2 2005-06-01  Operating    1\n",
        "3 2006-01-01     Exited    4\n",
        "4 2006-01-01  Operating    2"
       ]
      }
     ],
     "prompt_number": 80
    },
    {
     "cell_type": "code",
     "collapsed": false,
     "input": [
      "# step1.pivot_table(index='date',columns='level', values='val').apply(np.log).plot(kind='bar')\n",
      "step1.pivot_table(index='date',columns='level', values='val').plot(kind='bar')"
     ],
     "language": "python",
     "metadata": {},
     "outputs": [
      {
       "metadata": {},
       "output_type": "pyout",
       "prompt_number": 79,
       "text": [
        "<matplotlib.axes.AxesSubplot at 0x10a0ee910>"
       ]
      },
      {
       "metadata": {},
       "output_type": "display_data",
       "png": "[encoded data removed]",
       "text": [
        "<matplotlib.figure.Figure at 0x10a02b350>"
       ]
      }
     ],
     "prompt_number": 79
    },
    {
     "cell_type": "code",
     "collapsed": false,
     "input": [
      "df.head()"
     ],
     "language": "python",
     "metadata": {},
     "outputs": [
      {
       "html": [
        "<div style=\"max-height:1000px;max-width:1500px;overflow:auto;\">\n",
        "<table border=\"1\" class=\"dataframe\">\n",
        "  <thead>\n",
        "    <tr style=\"text-align: right;\">\n",
        "      <th></th>\n",
        "      <th>state</th>\n",
        "      <th>name</th>\n",
        "      <th>date</th>\n",
        "      <th>exit</th>\n",
        "      <th>rand</th>\n",
        "      <th>fund</th>\n",
        "      <th>year</th>\n",
        "      <th>cohort</th>\n",
        "    </tr>\n",
        "  </thead>\n",
        "  <tbody>\n",
        "    <tr>\n",
        "      <th>0</th>\n",
        "      <td> Exited</td>\n",
        "      <td>   Reddit</td>\n",
        "      <td>2005-06-01</td>\n",
        "      <td> 20000000</td>\n",
        "      <td>   M</td>\n",
        "      <td> 50100000</td>\n",
        "      <td> 2005</td>\n",
        "      <td> Summer</td>\n",
        "    </tr>\n",
        "    <tr>\n",
        "      <th>1</th>\n",
        "      <td>   Dead</td>\n",
        "      <td>  Simmery</td>\n",
        "      <td>2005-06-01</td>\n",
        "      <td>      NaN</td>\n",
        "      <td> NaN</td>\n",
        "      <td>      NaN</td>\n",
        "      <td> 2005</td>\n",
        "      <td> Summer</td>\n",
        "    </tr>\n",
        "    <tr>\n",
        "      <th>2</th>\n",
        "      <td> Exited</td>\n",
        "      <td>     Kiko</td>\n",
        "      <td>2005-06-01</td>\n",
        "      <td>   258100</td>\n",
        "      <td>   H</td>\n",
        "      <td>    50000</td>\n",
        "      <td> 2005</td>\n",
        "      <td> Summer</td>\n",
        "    </tr>\n",
        "    <tr>\n",
        "      <th>3</th>\n",
        "      <td>   Dead</td>\n",
        "      <td>   Memamp</td>\n",
        "      <td>2005-06-01</td>\n",
        "      <td>      NaN</td>\n",
        "      <td> NaN</td>\n",
        "      <td>      NaN</td>\n",
        "      <td> 2005</td>\n",
        "      <td> Summer</td>\n",
        "    </tr>\n",
        "    <tr>\n",
        "      <th>4</th>\n",
        "      <td> Exited</td>\n",
        "      <td> Infogami</td>\n",
        "      <td>2005-06-01</td>\n",
        "      <td>      NaN</td>\n",
        "      <td> NaN</td>\n",
        "      <td>      NaN</td>\n",
        "      <td> 2005</td>\n",
        "      <td> Summer</td>\n",
        "    </tr>\n",
        "  </tbody>\n",
        "</table>\n",
        "</div>"
       ],
       "metadata": {},
       "output_type": "pyout",
       "prompt_number": 47,
       "text": [
        "    state      name       date      exit rand      fund  year  cohort\n",
        "0  Exited    Reddit 2005-06-01  20000000    M  50100000  2005  Summer\n",
        "1    Dead   Simmery 2005-06-01       NaN  NaN       NaN  2005  Summer\n",
        "2  Exited      Kiko 2005-06-01    258100    H     50000  2005  Summer\n",
        "3    Dead    Memamp 2005-06-01       NaN  NaN       NaN  2005  Summer\n",
        "4  Exited  Infogami 2005-06-01       NaN  NaN       NaN  2005  Summer"
       ]
      }
     ],
     "prompt_number": 47
    },
    {
     "cell_type": "code",
     "collapsed": false,
     "input": [
      "df.groupby('state')['fund'].mean().plot(kind='bar')"
     ],
     "language": "python",
     "metadata": {},
     "outputs": [
      {
       "metadata": {},
       "output_type": "pyout",
       "prompt_number": 48,
       "text": [
        "<matplotlib.axes.AxesSubplot at 0x1097eb4d0>"
       ]
      },
      {
       "metadata": {},
       "output_type": "display_data",
       "png": "[encoded data removed]",
       "text": [
        "<matplotlib.figure.Figure at 0x1097fed90>"
       ]
      }
     ],
     "prompt_number": 48
    },
    {
     "cell_type": "code",
     "collapsed": false,
     "input": [
      "df.groupby('state')['fund'].median().plot(kind='bar')"
     ],
     "language": "python",
     "metadata": {},
     "outputs": [
      {
       "metadata": {},
       "output_type": "pyout",
       "prompt_number": 49,
       "text": [
        "<matplotlib.axes.AxesSubplot at 0x1098b9890>"
       ]
      },
      {
       "metadata": {},
       "output_type": "display_data",
       "png": "[encoded data removed]",
       "text": [
        "<matplotlib.figure.Figure at 0x1097681d0>"
       ]
      }
     ],
     "prompt_number": 49
    },
    {
     "cell_type": "code",
     "collapsed": false,
     "input": [
      "df.fund.mean(), df.fund.median()"
     ],
     "language": "python",
     "metadata": {},
     "outputs": [
      {
       "metadata": {},
       "output_type": "pyout",
       "prompt_number": 50,
       "text": [
        "(13376485.791390728, 1800000.0)"
       ]
      }
     ],
     "prompt_number": 50
    },
    {
     "cell_type": "code",
     "collapsed": false,
     "input": [
      "step1"
     ],
     "language": "python",
     "metadata": {},
     "outputs": [
      {
       "html": [
        "<div style=\"max-height:1000px;max-width:1500px;overflow:auto;\">\n",
        "<table border=\"1\" class=\"dataframe\">\n",
        "  <thead>\n",
        "    <tr style=\"text-align: right;\">\n",
        "      <th></th>\n",
        "      <th>date</th>\n",
        "      <th>level</th>\n",
        "      <th>val</th>\n",
        "    </tr>\n",
        "  </thead>\n",
        "  <tbody>\n",
        "    <tr>\n",
        "      <th>0 </th>\n",
        "      <td>2005-06-01</td>\n",
        "      <td>    Exited</td>\n",
        "      <td>  5</td>\n",
        "    </tr>\n",
        "    <tr>\n",
        "      <th>1 </th>\n",
        "      <td>2005-06-01</td>\n",
        "      <td>      Dead</td>\n",
        "      <td>  2</td>\n",
        "    </tr>\n",
        "    <tr>\n",
        "      <th>2 </th>\n",
        "      <td>2005-06-01</td>\n",
        "      <td> Operating</td>\n",
        "      <td>  1</td>\n",
        "    </tr>\n",
        "    <tr>\n",
        "      <th>3 </th>\n",
        "      <td>2006-01-01</td>\n",
        "      <td>    Exited</td>\n",
        "      <td>  4</td>\n",
        "    </tr>\n",
        "    <tr>\n",
        "      <th>4 </th>\n",
        "      <td>2006-01-01</td>\n",
        "      <td> Operating</td>\n",
        "      <td>  2</td>\n",
        "    </tr>\n",
        "    <tr>\n",
        "      <th>5 </th>\n",
        "      <td>2006-01-01</td>\n",
        "      <td>      Dead</td>\n",
        "      <td>  1</td>\n",
        "    </tr>\n",
        "    <tr>\n",
        "      <th>6 </th>\n",
        "      <td>2006-06-01</td>\n",
        "      <td>      Dead</td>\n",
        "      <td>  7</td>\n",
        "    </tr>\n",
        "    <tr>\n",
        "      <th>7 </th>\n",
        "      <td>2006-06-01</td>\n",
        "      <td>    Exited</td>\n",
        "      <td>  2</td>\n",
        "    </tr>\n",
        "    <tr>\n",
        "      <th>8 </th>\n",
        "      <td>2006-06-01</td>\n",
        "      <td> Operating</td>\n",
        "      <td>  1</td>\n",
        "    </tr>\n",
        "    <tr>\n",
        "      <th>9 </th>\n",
        "      <td>2007-01-01</td>\n",
        "      <td> Operating</td>\n",
        "      <td>  5</td>\n",
        "    </tr>\n",
        "    <tr>\n",
        "      <th>10</th>\n",
        "      <td>2007-01-01</td>\n",
        "      <td>      Dead</td>\n",
        "      <td>  4</td>\n",
        "    </tr>\n",
        "    <tr>\n",
        "      <th>11</th>\n",
        "      <td>2007-01-01</td>\n",
        "      <td>    Exited</td>\n",
        "      <td>  4</td>\n",
        "    </tr>\n",
        "    <tr>\n",
        "      <th>12</th>\n",
        "      <td>2007-06-01</td>\n",
        "      <td>      Dead</td>\n",
        "      <td>  7</td>\n",
        "    </tr>\n",
        "    <tr>\n",
        "      <th>13</th>\n",
        "      <td>2007-06-01</td>\n",
        "      <td>    Exited</td>\n",
        "      <td>  7</td>\n",
        "    </tr>\n",
        "    <tr>\n",
        "      <th>14</th>\n",
        "      <td>2007-06-01</td>\n",
        "      <td> Operating</td>\n",
        "      <td>  5</td>\n",
        "    </tr>\n",
        "    <tr>\n",
        "      <th>15</th>\n",
        "      <td>2008-01-01</td>\n",
        "      <td>      Dead</td>\n",
        "      <td> 10</td>\n",
        "    </tr>\n",
        "    <tr>\n",
        "      <th>16</th>\n",
        "      <td>2008-01-01</td>\n",
        "      <td> Operating</td>\n",
        "      <td> 10</td>\n",
        "    </tr>\n",
        "    <tr>\n",
        "      <th>17</th>\n",
        "      <td>2008-01-01</td>\n",
        "      <td>    Exited</td>\n",
        "      <td>  3</td>\n",
        "    </tr>\n",
        "    <tr>\n",
        "      <th>18</th>\n",
        "      <td>2008-06-01</td>\n",
        "      <td>      Dead</td>\n",
        "      <td> 13</td>\n",
        "    </tr>\n",
        "    <tr>\n",
        "      <th>19</th>\n",
        "      <td>2008-06-01</td>\n",
        "      <td> Operating</td>\n",
        "      <td>  6</td>\n",
        "    </tr>\n",
        "    <tr>\n",
        "      <th>20</th>\n",
        "      <td>2008-06-01</td>\n",
        "      <td>    Exited</td>\n",
        "      <td>  5</td>\n",
        "    </tr>\n",
        "    <tr>\n",
        "      <th>21</th>\n",
        "      <td>2009-01-01</td>\n",
        "      <td> Operating</td>\n",
        "      <td>  7</td>\n",
        "    </tr>\n",
        "    <tr>\n",
        "      <th>22</th>\n",
        "      <td>2009-01-01</td>\n",
        "      <td>      Dead</td>\n",
        "      <td>  5</td>\n",
        "    </tr>\n",
        "    <tr>\n",
        "      <th>23</th>\n",
        "      <td>2009-01-01</td>\n",
        "      <td>    Exited</td>\n",
        "      <td>  4</td>\n",
        "    </tr>\n",
        "    <tr>\n",
        "      <th>24</th>\n",
        "      <td>2009-06-01</td>\n",
        "      <td> Operating</td>\n",
        "      <td> 13</td>\n",
        "    </tr>\n",
        "    <tr>\n",
        "      <th>25</th>\n",
        "      <td>2009-06-01</td>\n",
        "      <td>      Dead</td>\n",
        "      <td>  7</td>\n",
        "    </tr>\n",
        "    <tr>\n",
        "      <th>26</th>\n",
        "      <td>2009-06-01</td>\n",
        "      <td>    Exited</td>\n",
        "      <td>  5</td>\n",
        "    </tr>\n",
        "    <tr>\n",
        "      <th>27</th>\n",
        "      <td>2010-01-01</td>\n",
        "      <td> Operating</td>\n",
        "      <td> 12</td>\n",
        "    </tr>\n",
        "    <tr>\n",
        "      <th>28</th>\n",
        "      <td>2010-01-01</td>\n",
        "      <td>    Exited</td>\n",
        "      <td>  8</td>\n",
        "    </tr>\n",
        "    <tr>\n",
        "      <th>29</th>\n",
        "      <td>2010-01-01</td>\n",
        "      <td>      Dead</td>\n",
        "      <td>  7</td>\n",
        "    </tr>\n",
        "    <tr>\n",
        "      <th>30</th>\n",
        "      <td>2010-06-01</td>\n",
        "      <td> Operating</td>\n",
        "      <td> 21</td>\n",
        "    </tr>\n",
        "    <tr>\n",
        "      <th>31</th>\n",
        "      <td>2010-06-01</td>\n",
        "      <td>    Exited</td>\n",
        "      <td>  8</td>\n",
        "    </tr>\n",
        "    <tr>\n",
        "      <th>32</th>\n",
        "      <td>2010-06-01</td>\n",
        "      <td>      Dead</td>\n",
        "      <td>  7</td>\n",
        "    </tr>\n",
        "    <tr>\n",
        "      <th>33</th>\n",
        "      <td>2011-01-01</td>\n",
        "      <td> Operating</td>\n",
        "      <td> 36</td>\n",
        "    </tr>\n",
        "    <tr>\n",
        "      <th>34</th>\n",
        "      <td>2011-01-01</td>\n",
        "      <td>    Exited</td>\n",
        "      <td>  7</td>\n",
        "    </tr>\n",
        "    <tr>\n",
        "      <th>35</th>\n",
        "      <td>2011-01-01</td>\n",
        "      <td>      Dead</td>\n",
        "      <td>  2</td>\n",
        "    </tr>\n",
        "    <tr>\n",
        "      <th>36</th>\n",
        "      <td>2011-06-01</td>\n",
        "      <td> Operating</td>\n",
        "      <td> 48</td>\n",
        "    </tr>\n",
        "    <tr>\n",
        "      <th>37</th>\n",
        "      <td>2011-06-01</td>\n",
        "      <td>    Exited</td>\n",
        "      <td> 13</td>\n",
        "    </tr>\n",
        "    <tr>\n",
        "      <th>38</th>\n",
        "      <td>2011-06-01</td>\n",
        "      <td>      Dead</td>\n",
        "      <td>  2</td>\n",
        "    </tr>\n",
        "    <tr>\n",
        "      <th>39</th>\n",
        "      <td>2012-01-01</td>\n",
        "      <td> Operating</td>\n",
        "      <td> 55</td>\n",
        "    </tr>\n",
        "    <tr>\n",
        "      <th>40</th>\n",
        "      <td>2012-01-01</td>\n",
        "      <td>    Exited</td>\n",
        "      <td>  7</td>\n",
        "    </tr>\n",
        "    <tr>\n",
        "      <th>41</th>\n",
        "      <td>2012-01-01</td>\n",
        "      <td>      Dead</td>\n",
        "      <td>  4</td>\n",
        "    </tr>\n",
        "    <tr>\n",
        "      <th>42</th>\n",
        "      <td>2012-06-01</td>\n",
        "      <td> Operating</td>\n",
        "      <td> 75</td>\n",
        "    </tr>\n",
        "    <tr>\n",
        "      <th>43</th>\n",
        "      <td>2012-06-01</td>\n",
        "      <td>      Dead</td>\n",
        "      <td>  5</td>\n",
        "    </tr>\n",
        "    <tr>\n",
        "      <th>44</th>\n",
        "      <td>2012-06-01</td>\n",
        "      <td>    Exited</td>\n",
        "      <td>  4</td>\n",
        "    </tr>\n",
        "    <tr>\n",
        "      <th>45</th>\n",
        "      <td>2013-01-01</td>\n",
        "      <td> Operating</td>\n",
        "      <td> 45</td>\n",
        "    </tr>\n",
        "    <tr>\n",
        "      <th>46</th>\n",
        "      <td>2013-01-01</td>\n",
        "      <td>      Dead</td>\n",
        "      <td>  1</td>\n",
        "    </tr>\n",
        "    <tr>\n",
        "      <th>47</th>\n",
        "      <td>2013-01-01</td>\n",
        "      <td>    Exited</td>\n",
        "      <td>  1</td>\n",
        "    </tr>\n",
        "    <tr>\n",
        "      <th>48</th>\n",
        "      <td>2013-06-01</td>\n",
        "      <td> Operating</td>\n",
        "      <td> 52</td>\n",
        "    </tr>\n",
        "    <tr>\n",
        "      <th>49</th>\n",
        "      <td>2013-06-01</td>\n",
        "      <td>      Dead</td>\n",
        "      <td>  1</td>\n",
        "    </tr>\n",
        "    <tr>\n",
        "      <th>50</th>\n",
        "      <td>2013-06-01</td>\n",
        "      <td>    Exited</td>\n",
        "      <td>  1</td>\n",
        "    </tr>\n",
        "    <tr>\n",
        "      <th>51</th>\n",
        "      <td>2014-01-01</td>\n",
        "      <td> Operating</td>\n",
        "      <td> 74</td>\n",
        "    </tr>\n",
        "    <tr>\n",
        "      <th>52</th>\n",
        "      <td>2014-01-01</td>\n",
        "      <td>    Exited</td>\n",
        "      <td>  1</td>\n",
        "    </tr>\n",
        "    <tr>\n",
        "      <th>53</th>\n",
        "      <td>2014-06-01</td>\n",
        "      <td> Operating</td>\n",
        "      <td> 85</td>\n",
        "    </tr>\n",
        "    <tr>\n",
        "      <th>54</th>\n",
        "      <td>2015-01-01</td>\n",
        "      <td> Operating</td>\n",
        "      <td> 20</td>\n",
        "    </tr>\n",
        "  </tbody>\n",
        "</table>\n",
        "</div>"
       ],
       "metadata": {},
       "output_type": "pyout",
       "prompt_number": 51,
       "text": [
        "         date      level  val\n",
        "0  2005-06-01     Exited    5\n",
        "1  2005-06-01       Dead    2\n",
        "2  2005-06-01  Operating    1\n",
        "3  2006-01-01     Exited    4\n",
        "4  2006-01-01  Operating    2\n",
        "5  2006-01-01       Dead    1\n",
        "6  2006-06-01       Dead    7\n",
        "7  2006-06-01     Exited    2\n",
        "8  2006-06-01  Operating    1\n",
        "9  2007-01-01  Operating    5\n",
        "10 2007-01-01       Dead    4\n",
        "11 2007-01-01     Exited    4\n",
        "12 2007-06-01       Dead    7\n",
        "13 2007-06-01     Exited    7\n",
        "14 2007-06-01  Operating    5\n",
        "15 2008-01-01       Dead   10\n",
        "16 2008-01-01  Operating   10\n",
        "17 2008-01-01     Exited    3\n",
        "18 2008-06-01       Dead   13\n",
        "19 2008-06-01  Operating    6\n",
        "20 2008-06-01     Exited    5\n",
        "21 2009-01-01  Operating    7\n",
        "22 2009-01-01       Dead    5\n",
        "23 2009-01-01     Exited    4\n",
        "24 2009-06-01  Operating   13\n",
        "25 2009-06-01       Dead    7\n",
        "26 2009-06-01     Exited    5\n",
        "27 2010-01-01  Operating   12\n",
        "28 2010-01-01     Exited    8\n",
        "29 2010-01-01       Dead    7\n",
        "30 2010-06-01  Operating   21\n",
        "31 2010-06-01     Exited    8\n",
        "32 2010-06-01       Dead    7\n",
        "33 2011-01-01  Operating   36\n",
        "34 2011-01-01     Exited    7\n",
        "35 2011-01-01       Dead    2\n",
        "36 2011-06-01  Operating   48\n",
        "37 2011-06-01     Exited   13\n",
        "38 2011-06-01       Dead    2\n",
        "39 2012-01-01  Operating   55\n",
        "40 2012-01-01     Exited    7\n",
        "41 2012-01-01       Dead    4\n",
        "42 2012-06-01  Operating   75\n",
        "43 2012-06-01       Dead    5\n",
        "44 2012-06-01     Exited    4\n",
        "45 2013-01-01  Operating   45\n",
        "46 2013-01-01       Dead    1\n",
        "47 2013-01-01     Exited    1\n",
        "48 2013-06-01  Operating   52\n",
        "49 2013-06-01       Dead    1\n",
        "50 2013-06-01     Exited    1\n",
        "51 2014-01-01  Operating   74\n",
        "52 2014-01-01     Exited    1\n",
        "53 2014-06-01  Operating   85\n",
        "54 2015-01-01  Operating   20"
       ]
      }
     ],
     "prompt_number": 51
    },
    {
     "cell_type": "code",
     "collapsed": false,
     "input": [
      "df.groupby('date')['fund'].sum().plot(kind='bar')"
     ],
     "language": "python",
     "metadata": {},
     "outputs": [
      {
       "metadata": {},
       "output_type": "pyout",
       "prompt_number": 52,
       "text": [
        "<matplotlib.axes.AxesSubplot at 0x1098cb7d0>"
       ]
      },
      {
       "metadata": {},
       "output_type": "display_data",
       "png": "[encoded data removed]",
       "text": [
        "<matplotlib.figure.Figure at 0x1097e5410>"
       ]
      }
     ],
     "prompt_number": 52
    },
    {
     "cell_type": "code",
     "collapsed": false,
     "input": [
      "df.groupby('date')['fund'].median().plot(kind='bar')"
     ],
     "language": "python",
     "metadata": {},
     "outputs": [
      {
       "metadata": {},
       "output_type": "pyout",
       "prompt_number": 53,
       "text": [
        "<matplotlib.axes.AxesSubplot at 0x1098bdcd0>"
       ]
      },
      {
       "metadata": {},
       "output_type": "display_data",
       "png": "[encoded data removed]",
       "text": [
        "<matplotlib.figure.Figure at 0x109786bd0>"
       ]
      }
     ],
     "prompt_number": 53
    },
    {
     "cell_type": "code",
     "collapsed": false,
     "input": [
      "df[df['state'] == 'Dead']['fund'].hist(bins=50)"
     ],
     "language": "python",
     "metadata": {},
     "outputs": [
      {
       "metadata": {},
       "output_type": "pyout",
       "prompt_number": 54,
       "text": [
        "<matplotlib.axes.AxesSubplot at 0x1098b7b50>"
       ]
      },
      {
       "metadata": {},
       "output_type": "display_data",
       "png": "[encoded data removed]",
       "text": [
        "<matplotlib.figure.Figure at 0x10996cad0>"
       ]
      }
     ],
     "prompt_number": 54
    },
    {
     "cell_type": "code",
     "collapsed": false,
     "input": [
      "df[df['state'] == 'Operating']['fund'].hist(bins=50)"
     ],
     "language": "python",
     "metadata": {},
     "outputs": [
      {
       "metadata": {},
       "output_type": "pyout",
       "prompt_number": 55,
       "text": [
        "<matplotlib.axes.AxesSubplot at 0x109c1e190>"
       ]
      },
      {
       "metadata": {},
       "output_type": "display_data",
       "png": "[encoded data removed]",
       "text": [
        "<matplotlib.figure.Figure at 0x109c00f10>"
       ]
      }
     ],
     "prompt_number": 55
    },
    {
     "cell_type": "code",
     "collapsed": false,
     "input": [
      "df[df['state'] == 'Exited']['fund'].hist(bins=50)"
     ],
     "language": "python",
     "metadata": {},
     "outputs": [
      {
       "metadata": {},
       "output_type": "pyout",
       "prompt_number": 56,
       "text": [
        "<matplotlib.axes.AxesSubplot at 0x109cfc750>"
       ]
      },
      {
       "metadata": {},
       "output_type": "display_data",
       "png": "[encoded data removed]",
       "text": [
        "<matplotlib.figure.Figure at 0x109a40810>"
       ]
      }
     ],
     "prompt_number": 56
    },
    {
     "cell_type": "code",
     "collapsed": false,
     "input": [],
     "language": "python",
     "metadata": {},
     "outputs": []
    }
   ],
   "metadata": {}
  }
 ]
}