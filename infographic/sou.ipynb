{
 "metadata": {
  "name": "",
  "signature": "sha256:4cb7210e1c28000f19f1a2393f2b2b84746feb761be7b18e02055ce52da13dac"
 },
 "nbformat": 3,
 "nbformat_minor": 0,
 "worksheets": [
  {
   "cells": [
    {
     "cell_type": "code",
     "collapsed": false,
     "input": [
      "import nltk\n",
      "sent_tokenizer = nltk.data.load('tokenizers/punkt/english.pickle')\n",
      "tokenization_pattern = r'''(?x)    # set flag to allow verbose regexps\n",
      "([A-Z]\\.)+        # abbreviations, e.g. U.S.A.\n",
      "| \\w+(-\\w+)*        # words with optional internal hyphens\n",
      "| \\$?\\d+(\\.\\d+)?%?  # currency and percentages, e.g. $12.40, 82%\n",
      "| \\w+[\\x90-\\xff]  # these are escaped emojis\n",
      "| [][.,;\"'?():-_`]  # these are separate tokens\n",
      "'''\n",
      "word_tokenizer = nltk.tokenize.regexp.RegexpTokenizer(tokenization_pattern)\n",
      "from nltk.corpus import stopwords\n",
      "import string\n",
      "stops = stopwords.words('english') + list(string.punctuation)"
     ],
     "language": "python",
     "metadata": {},
     "outputs": [],
     "prompt_number": 47
    },
    {
     "cell_type": "code",
     "collapsed": false,
     "input": [
      "import nltk.classify.util\n",
      "from nltk.classify import NaiveBayesClassifier\n",
      "from nltk.corpus import movie_reviews"
     ],
     "language": "python",
     "metadata": {},
     "outputs": [],
     "prompt_number": 111
    },
    {
     "cell_type": "code",
     "collapsed": false,
     "input": [
      "# http://streamhacker.com/2010/05/10/text-classification-sentiment-analysis-naive-bayes-classifier/\n",
      "def word_feats(words):\n",
      "    return dict([(word, True) for word in words])\n",
      " \n",
      "negids = movie_reviews.fileids('neg')\n",
      "posids = movie_reviews.fileids('pos')\n",
      " \n",
      "negfeats = [(word_feats(movie_reviews.words(fileids=[f])), 'neg') for f in negids]\n",
      "posfeats = [(word_feats(movie_reviews.words(fileids=[f])), 'pos') for f in posids]\n",
      " \n",
      "negcutoff = len(negfeats)*3/4\n",
      "poscutoff = len(posfeats)*3/4\n",
      " \n",
      "trainfeats = negfeats[:negcutoff] + posfeats[:poscutoff]\n",
      "testfeats = negfeats[negcutoff:] + posfeats[poscutoff:]\n",
      "print 'train on %d instances, test on %d instances' % (len(trainfeats), len(testfeats))\n",
      " \n",
      "classifier = NaiveBayesClassifier.train(trainfeats)\n",
      "print 'accuracy:', nltk.classify.util.accuracy(classifier, testfeats)\n",
      "classifier.show_most_informative_features()"
     ],
     "language": "python",
     "metadata": {},
     "outputs": [
      {
       "output_type": "stream",
       "stream": "stdout",
       "text": [
        "train on 1500 instances, test on 500 instances\n",
        "accuracy:"
       ]
      },
      {
       "output_type": "stream",
       "stream": "stdout",
       "text": [
        " 0.728\n",
        "Most Informative Features\n",
        "             magnificent = True              pos : neg    =     15.0 : 1.0"
       ]
      },
      {
       "output_type": "stream",
       "stream": "stdout",
       "text": [
        "\n",
        "             outstanding = True              pos : neg    =     13.6 : 1.0\n",
        "               insulting = True              neg : pos    =     13.0 : 1.0\n",
        "              vulnerable = True              pos : neg    =     12.3 : 1.0\n",
        "               ludicrous = True              neg : pos    =     11.8 : 1.0\n",
        "                  avoids = True              pos : neg    =     11.7 : 1.0\n",
        "             uninvolving = True              neg : pos    =     11.7 : 1.0\n",
        "              astounding = True              pos : neg    =     10.3 : 1.0\n",
        "             fascination = True              pos : neg    =     10.3 : 1.0\n",
        "                 idiotic = True              neg : pos    =      9.8 : 1.0\n"
       ]
      }
     ],
     "prompt_number": 113
    },
    {
     "cell_type": "code",
     "collapsed": false,
     "input": [
      "# src: http://www.presidency.ucsb.edu/sou.php\n",
      "data = []\n",
      "files = []\n",
      "with open('temp.txt') as f:\n",
      "    for line in f.readlines():\n",
      "        data.append(line.strip(\".txt\\n\").split('-')[2])\n",
      "        files.append(line.strip(\"\\n\"))"
     ],
     "language": "python",
     "metadata": {},
     "outputs": [],
     "prompt_number": 164
    },
    {
     "cell_type": "code",
     "collapsed": false,
     "input": [
      "data, files"
     ],
     "language": "python",
     "metadata": {},
     "outputs": [
      {
       "metadata": {},
       "output_type": "pyout",
       "prompt_number": 165,
       "text": [
        "(['2015', '2012', '2011', '2010', '2014', '2013', '2009'],\n",
        " ['1-20-2015.txt',\n",
        "  '1-24-2012.txt',\n",
        "  '1-25-2011.txt',\n",
        "  '1-27-2010.txt',\n",
        "  '1-28-2014.txt',\n",
        "  '2-12-2013.txt',\n",
        "  '2-24-2009.txt'])"
       ]
      }
     ],
     "prompt_number": 165
    },
    {
     "cell_type": "code",
     "collapsed": false,
     "input": [
      "sotus = {}\n",
      "for fi, date in zip(files, data):\n",
      "    with open(fi) as f:\n",
      "        sotus[date] = ''.join(f.readlines()).decode('utf-8', 'ignore')"
     ],
     "language": "python",
     "metadata": {},
     "outputs": [],
     "prompt_number": 166
    },
    {
     "cell_type": "code",
     "collapsed": false,
     "input": [
      "most_recent = sotus['2015']"
     ],
     "language": "python",
     "metadata": {},
     "outputs": [],
     "prompt_number": 168
    },
    {
     "cell_type": "code",
     "collapsed": false,
     "input": [
      "def tokenize_sent(sent):\n",
      "    for word in sent:\n",
      "        if word.lower() in contractions:\n",
      "            yield contractions[word]\n",
      "        else:\n",
      "            yield word\n",
      "def tokenize_raw(sotu):\n",
      "    temp = word_tokenizer.tokenize_sents(sent_tokenizer.tokenize(sotu))\n",
      "    final = []\n",
      "    return [list(tokenize_sent(sent)) for sent in temp]\n",
      "def batch_pos(sotu):\n",
      "    return nltk.pos_tag_sents(list(sotu))"
     ],
     "language": "python",
     "metadata": {},
     "outputs": [],
     "prompt_number": 169
    },
    {
     "cell_type": "code",
     "collapsed": false,
     "input": [
      "mr_tokens = tokenize_raw(most_recent)\n",
      "mr_tag = batch_pos(mr_tokens)"
     ],
     "language": "python",
     "metadata": {},
     "outputs": [],
     "prompt_number": 156
    },
    {
     "cell_type": "code",
     "collapsed": false,
     "input": [
      "def simplify_tokens(data, pos=None):\n",
      "    for sent in data:\n",
      "        for tkn, tag in sent:\n",
      "            if pos:\n",
      "                if tag.startswith(pos):\n",
      "                    yield tkn.lower()\n",
      "            else:\n",
      "                yield tkn.lower()"
     ],
     "language": "python",
     "metadata": {},
     "outputs": [],
     "prompt_number": 157
    },
    {
     "cell_type": "code",
     "collapsed": false,
     "input": [
      "fd = nltk.FreqDist([x for x in simplify_tokens(mr_tag) if x not in stops])\n",
      "print fd.most_common(20)"
     ],
     "language": "python",
     "metadata": {},
     "outputs": [
      {
       "output_type": "stream",
       "stream": "stdout",
       "text": [
        "[(u'new', 41), (u'america', 38), (u'us', 29), (u've', 27), (u'years', 25), (u'every', 24), (u'make', 23), (u'people', 23), (u'let', 23), (u'world', 22), (u'need', 22), (u'want', 21), (u're', 21), (u'time', 21), (u'work', 20), (u'country', 20), (u'like', 20), (u'one', 19), (u'american', 19), (u'economy', 18)]\n"
       ]
      }
     ],
     "prompt_number": 143
    },
    {
     "cell_type": "code",
     "collapsed": false,
     "input": [
      "fd_adj = nltk.FreqDist([x for x in simplify_tokens(mr_tag, \"J\") if x not in stops])\n",
      "print fd_adj.most_common(20)"
     ],
     "language": "python",
     "metadata": {},
     "outputs": [
      {
       "output_type": "stream",
       "stream": "stdout",
       "text": [
        "[(u'new', 37), (u'many', 12), (u'past', 11), (u'first', 10), (u've', 10), (u'higher', 10), (u'better', 9), (u'strong', 9), (u'american', 9), (u'hard', 8), (u'young', 7), (u'sure', 7), (u'good', 7), (u'free', 7), (u'last', 7), (u'best', 6), (u're', 6), (u'great', 6), (u'small', 5), (u'military', 5)]\n"
       ]
      }
     ],
     "prompt_number": 144
    },
    {
     "cell_type": "code",
     "collapsed": false,
     "input": [
      "fd_n = nltk.FreqDist([x for x in simplify_tokens(mr_tag, \"N\") if x not in stops])\n",
      "print fd_n.most_common(20)"
     ],
     "language": "python",
     "metadata": {},
     "outputs": [
      {
       "output_type": "stream",
       "stream": "stdout",
       "text": [
        "[(u'america', 38), (u'years', 25), (u'people', 23), (u'world', 22), (u'time', 21), (u'country', 20), (u'americans', 18), (u'jobs', 18), (u'economy', 18), (u'families', 16), (u'work', 15), (u'year', 15), (u're', 15), (u'congress', 13), (u'let', 12), (u'today', 11), (u'century', 11), (u'workers', 11), (u'home', 11), (u'american', 10)]\n"
       ]
      }
     ],
     "prompt_number": 145
    },
    {
     "cell_type": "code",
     "collapsed": false,
     "input": [
      "fd_np = nltk.FreqDist([x for x in simplify_tokens(mr_tag, \"NNP\") if x not in stops])\n",
      "print fd_np.most_common(20)"
     ],
     "language": "python",
     "metadata": {},
     "outputs": [
      {
       "output_type": "stream",
       "stream": "stdout",
       "text": [
        "[(u'america', 38), (u'congress', 13), (u'americans', 12), (u'american', 10), (u'let', 9), (u'rebekah', 8), (u'states', 8), (u'republicans', 7), (u'democrats', 6), (u'laughter', 6), (u'president', 6), (u'ben', 5), (u'government', 4), (u'iran', 4), (u'west', 4), (u'tonight', 4), (u'united', 4), (u'cuba', 4), (u'afghanistan', 3), (u'state', 3)]\n"
       ]
      }
     ],
     "prompt_number": 146
    },
    {
     "cell_type": "code",
     "collapsed": false,
     "input": [
      "for sent in mr_tag:\n",
      "    f=False\n",
      "    for word, tag in sent:\n",
      "        if word.lower() == 'congress':\n",
      "            f = True\n",
      "    if f:\n",
      "        print classifier.classify(word_feats([word for word, tag in sent]))\n",
      "        print ' '.join([word for word, tag in sent])\n",
      "        print"
     ],
     "language": "python",
     "metadata": {},
     "outputs": [
      {
       "output_type": "stream",
       "stream": "stdout",
       "text": [
        "pos\n",
        "Mr . Speaker , Mr . Vice President , Members of Congress , my fellow Americans : We are 15 years into this new century .\n",
        "\n",
        "pos\n",
        "In 2 weeks , I will send this Congress a budget filled with ideas that are practical , not partisan .\n",
        "\n",
        "pos\n",
        "That ' s why this Congress still needs to pass a law that makes sure a woman is paid the same as a man for doing the same work .\n",
        "\n",
        "pos\n",
        "And to everyone in this Congress who still refuses to raise the minimum wage , I say this : If you truly believe you could work full time and support a family on less than $15 , 000 a year , try it .\n",
        "\n",
        "neg\n",
        "And that ' s why I ' m sending this Congress a bold new plan to lower the cost of community college to zero .\n",
        "\n",
        "pos\n",
        "And I want to work with this Congress to make sure those already burdened with student loans can reduce their monthly payments so that student debt doesn ' t derail anyone ' s dreams .\n",
        "\n",
        "pos\n",
        "And tonight I call on this Congress to show the world that we are united in this mission by passing a resolution to authorize the use of force against ISIL .\n",
        "\n",
        "neg\n",
        "And this year , Congress should begin the work of ending the embargo .\n",
        "\n",
        "pos\n",
        "But new sanctions passed by this Congress , at this moment in time , will all but guarantee that diplomacy fails : alienating America from its allies , making it harder to maintain sanctions , and ensuring that Iran starts up its nuclear program again .\n",
        "\n",
        "pos\n",
        "And tonight I urge this Congress to finally pass the legislation we need to better meet the evolving threat of cyber attacks , combat identity theft , and protect our children ' s information .\n",
        "\n",
        "neg\n",
        "I could not be prouder of them , and I thank this Congress for your bipartisan support of their efforts .\n",
        "\n",
        "neg\n",
        "And that ' s why I will not let this Congress endanger the health of our children by turning back the clock on our efforts .\n",
        "\n",
        "pos\n",
        "I ' ve served in Congress with many of you .\n",
        "\n"
       ]
      }
     ],
     "prompt_number": 147
    },
    {
     "cell_type": "code",
     "collapsed": false,
     "input": [
      "from textblob import TextBlob"
     ],
     "language": "python",
     "metadata": {},
     "outputs": [],
     "prompt_number": 170
    },
    {
     "cell_type": "code",
     "collapsed": false,
     "input": [
      "mr = TextBlob(most_recent)"
     ],
     "language": "python",
     "metadata": {},
     "outputs": [],
     "prompt_number": 171
    },
    {
     "cell_type": "code",
     "collapsed": false,
     "input": [
      "mr.sentiment"
     ],
     "language": "python",
     "metadata": {},
     "outputs": [
      {
       "metadata": {},
       "output_type": "pyout",
       "prompt_number": 172,
       "text": [
        "Sentiment(polarity=0.1565836818132735, subjectivity=0.4468151632947554)"
       ]
      }
     ],
     "prompt_number": 172
    },
    {
     "cell_type": "code",
     "collapsed": false,
     "input": [
      "for k, v in sorted(sotus.items()):\n",
      "    print k\n",
      "    temp = TextBlob(v)\n",
      "    polar = []\n",
      "    for sent in temp.sentences:\n",
      "        if \"Congress\" in sent:\n",
      "            polar.append(sent.sentiment.polarity)\n",
      "    print sum(polar)/len(polar)"
     ],
     "language": "python",
     "metadata": {},
     "outputs": [
      {
       "output_type": "stream",
       "stream": "stdout",
       "text": [
        "2009\n",
        "0.11047979798"
       ]
      },
      {
       "output_type": "stream",
       "stream": "stdout",
       "text": [
        "\n",
        "2010\n",
        "0.0020987654321"
       ]
      },
      {
       "output_type": "stream",
       "stream": "stdout",
       "text": [
        "\n",
        "2011\n",
        "0.0627705627706\n",
        "2012\n",
        "0.0614696067821"
       ]
      },
      {
       "output_type": "stream",
       "stream": "stdout",
       "text": [
        "\n",
        "2013\n",
        "0.0936157796452\n",
        "2014\n",
        "0.187054924242"
       ]
      },
      {
       "output_type": "stream",
       "stream": "stdout",
       "text": [
        "\n",
        "2015\n",
        "0.160664335664\n"
       ]
      }
     ],
     "prompt_number": 181
    },
    {
     "cell_type": "code",
     "collapsed": false,
     "input": [
      "sents = \"\"\n",
      "for k, v in sorted(sotus.items()):\n",
      "    print k\n",
      "    temp = TextBlob(v)\n",
      "    tags = temp.tags\n",
      "    words = ['russia','china','iran','iraq','afghanistan', 'congress','republican', 'bipartisan', 'financial', 'economic','economy', 'difficult','easy']\n",
      "    print len(temp.words)\n",
      "#     for word in words:\n",
      "#         print word, temp.word_counts[word]\n",
      "    for sent in temp.sentences:\n",
      "        for word in words:\n",
      "            if sent.word_counts[word]:\n",
      "                print sent\n",
      "\n",
      "    print"
     ],
     "language": "python",
     "metadata": {},
     "outputs": [
      {
       "output_type": "stream",
       "stream": "stdout",
       "text": [
        "2009\n",
        "6178"
       ]
      },
      {
       "output_type": "stream",
       "stream": "stdout",
       "text": [
        "\n",
        "And yet, it is China that has launched the largest effort in history to make their economy energy efficient."
       ]
      },
      {
       "output_type": "stream",
       "stream": "stdout",
       "text": [
        "\n",
        "(0.0, 0.0)\n",
        "We'll eliminate the no-bid contracts that have wasted billions in Iraq and reform our defense budget so that we're not paying for cold war-era weapons systems we don't use."
       ]
      },
      {
       "output_type": "stream",
       "stream": "stdout",
       "text": [
        "\n",
        "(-0.4, 0.5)\n",
        "And for the first time, that includes the full cost of fighting in Iraq and Afghanistan.\n",
        "(0.3, 0.44166666666666665)\n",
        "And for the first time, that includes the full cost of fighting in Iraq and Afghanistan.\n",
        "(0.3, 0.44166666666666665)\n",
        "Along with our outstanding national security team, I'm now carefully reviewing our policies in both wars, and I will soon announce a way forward in Iraq that leaves Iraq to its people and responsibly ends this war.\n",
        "(0.20000000000000004, 0.8083333333333332)\n",
        "And with our friends and allies, we will forge a new and comprehensive strategy for Afghanistan and Pakistan to defeat Al Qaida and combat extremism, because I will not allow terrorists to plot against the American people from safe havens halfway around the world.\n",
        "(0.21212121212121213, 0.3181818181818182)\n",
        "\n",
        "2010\n",
        "7451"
       ]
      },
      {
       "output_type": "stream",
       "stream": "stdout",
       "text": [
        "\n",
        "There's no reason Europe or China should have the fastest trains or the new factories that manufacture clean energy products."
       ]
      },
      {
       "output_type": "stream",
       "stream": "stdout",
       "text": [
        "\n",
        "(0.2515151515151515, 0.5772727272727273)\n",
        "Meanwhile, China's not waiting to revamp its economy.\n",
        "(0.0, 0.0)\n",
        "And in Afghanistan, we're increasing our troops and training Afghan security forces so they can begin to take the lead in July of 2011 and our troops can begin to come home."
       ]
      },
      {
       "output_type": "stream",
       "stream": "stdout",
       "text": [
        "\n",
        "(0.0, 0.0)\n",
        "As we take the fight to Al Qaida, we are responsibly leaving Iraq to its people.\n",
        "(0.2, 0.55)\n",
        "We will have all of our combat troops out of Iraq by the end of this August.\n",
        "(0.0, 0.0)\n",
        "Tonight all of our men and women in uniform, in Iraq, in Afghanistan, and around the world, they have to know that we--that they have our respect, our gratitude, our full support.\n",
        "(0.35, 0.55)\n",
        "Tonight all of our men and women in uniform, in Iraq, in Afghanistan, and around the world, they have to know that we--that they have our respect, our gratitude, our full support.\n",
        "(0.35, 0.55)\n",
        "To reduce our stockpiles and launchers, while ensuring our deterrent, the United States and Russia are completing negotiations on the farthest reaching arms control treaty in nearly two decades.\n",
        "(0.1, 0.4)\n",
        "That's why the international community is more united and the Islamic Republic of Iran is more isolated.\n",
        "(0.3333333333333333, 0.3333333333333333)\n",
        "And as Iran's leaders continue to ignore their obligations, there should be no doubt: They too will face growing consequences.\n",
        "(0.0, 0.0)\n",
        "That's why we stand with the girl who yearns to go to school in Afghanistan, why we support the human rights of the women marching through the streets of Iran, why we advocate for the young man denied a job by corruption in Guinea.\n",
        "(0.05, 0.25)\n",
        "That's why we stand with the girl who yearns to go to school in Afghanistan, why we support the human rights of the women marching through the streets of Iran, why we advocate for the young man denied a job by corruption in Guinea.\n",
        "(0.05, 0.25)\n",
        "\n"
       ]
      },
      {
       "output_type": "stream",
       "stream": "stdout",
       "text": [
        "2011\n",
        "7080"
       ]
      },
      {
       "output_type": "stream",
       "stream": "stdout",
       "text": [
        "\n",
        "Meanwhile, nations like China and India realized that with some changes of their own, they could compete in this new world."
       ]
      },
      {
       "output_type": "stream",
       "stream": "stdout",
       "text": [
        "\n",
        "(0.36818181818181817, 0.7272727272727273)\n",
        "Just recently, China became the home to the world's largest private solar research facility and the world's fastest computer.\n",
        "(0.0, 0.3125)\n",
        "Countries in Europe and Russia invest more in their roads and railways than we do."
       ]
      },
      {
       "output_type": "stream",
       "stream": "stdout",
       "text": [
        "\n",
        "(0.5, 0.5)\n",
        "China is building faster trains and newer airports.\n",
        "(0.0, 0.0)\n",
        "Recently, we signed agreements with India and China that will support more than 250,000 jobs here in the United States.\n",
        "(0.25, 0.375)\n",
        "Look to Iraq, where nearly 100,000 of our brave men and women have left with their heads held high."
       ]
      },
      {
       "output_type": "stream",
       "stream": "stdout",
       "text": [
        "\n",
        "(0.265, 0.485)\n",
        "This year, our civilians will forge a lasting partnership with the Iraqi people, while we finish the job of bringing our troops out of Iraq.\n",
        "(0.0, 0.0)\n",
        "The Iraq war is coming to an end.\n",
        "(0.0, 0.0)\n",
        "In Afghanistan, our troops have taken Taliban strongholds and trained Afghan security forces.\n",
        "(0.0, 0.0)\n",
        "Because of a diplomatic effort to insist that Iran meet its obligations, the Iranian Government now faces tougher sanctions, tighter sanctions than ever before.\n",
        "(0.0, 0.0)\n",
        "We've reset our relationship with Russia, strengthened Asian alliances, built new partnerships with nations like India.\n",
        "(0.06818181818181818, 0.22727272727272727)\n",
        "\n"
       ]
      },
      {
       "output_type": "stream",
       "stream": "stdout",
       "text": [
        "2012\n",
        "7239"
       ]
      },
      {
       "output_type": "stream",
       "stream": "stdout",
       "text": [
        "\n",
        "Mr. Speaker, Mr. Vice President, Members of Congress, distinguished guests, and fellow Americans: Last month, I went to Andrews Air Force Base and welcomed home some of our last troops to serve in Iraq.\n",
        "(-0.26666666666666666, 0.37777777777777777)"
       ]
      },
      {
       "output_type": "stream",
       "stream": "stdout",
       "text": [
        "\n",
        "For the first time in 9 years, there are no Americans fighting in Iraq.\n",
        "(0.25, 0.3333333333333333)\n",
        "The Taliban's momentum has been broken, and some troops in Afghanistan have begun to come home.\n",
        "(-0.4, 0.4)\n",
        "But right now it's getting more expensive to do business in places like China."
       ]
      },
      {
       "output_type": "stream",
       "stream": "stdout",
       "text": [
        "\n",
        "(0.09523809523809523, 0.5785714285714285)\n",
        "We've brought trade cases against China at nearly twice the rate as the last administration, and it's made a difference.\n",
        "(0.05, 0.23333333333333334)\n",
        "Tonight I'm announcing the creation of a trade enforcement unit that will be charged with investigating unfair trading practices in countries like China.\n",
        "(-0.5, 1.0)\n",
        "And this Congress should make sure that no foreign company has an advantage over American manufacturing when it comes to accessing financing or new markets like Russia.\n",
        "(0.1747159090909091, 0.36710858585858586)\n",
        "I will not cede the wind or solar or battery industry to China or Germany because we refuse to make the same commitment here."
       ]
      },
      {
       "output_type": "stream",
       "stream": "stdout",
       "text": [
        "\n",
        "(0.0, 0.125)\n",
        "Ending the Iraq war has allowed us to strike decisive blows against our enemies."
       ]
      },
      {
       "output_type": "stream",
       "stream": "stdout",
       "text": [
        "\n",
        "(0.0, 0.0)\n",
        "From this position of strength, we've begun to wind down the war in Afghanistan.\n",
        "(-0.15555555555555559, 0.2888888888888889)\n",
        "This transition to Afghan lead will continue, and we will build an enduring partnership with Afghanistan so that it is never again a source of attacks against America.\n",
        "(0.0, 0.0)\n",
        "Look at Iran.\n",
        "(0.0, 0.0)\n",
        "Through the power of our diplomacy, a world that was once divided about how to deal with Iran's nuclear program now stands as one.\n",
        "(0.0, 0.0)\n",
        "Let there be no doubt: America is determined to prevent Iran from getting a nuclear weapon, and I will take no options off the table to achieve that goal.\n",
        "(0.0, 0.0)\n",
        "And if Iran changes course and meets its obligations, it can rejoin the community of nations.\n",
        "(0.0, 0.0)\n",
        "\n",
        "2013\n",
        "6938"
       ]
      },
      {
       "output_type": "stream",
       "stream": "stdout",
       "text": [
        "\n",
        "As long as countries like China keep going all in on clean energy, so must we."
       ]
      },
      {
       "output_type": "stream",
       "stream": "stdout",
       "text": [
        "\n",
        "(0.15833333333333335, 0.55)\n",
        "Because of them, we can say with confidence that America will complete its mission in Afghanistan and achieve our objective of defeating the core of Al Qaida."
       ]
      },
      {
       "output_type": "stream",
       "stream": "stdout",
       "text": [
        "\n",
        "(0.05, 0.25)\n",
        "Tonight I can announce that over the next year, another 34,000 American troops will come home from Afghanistan.\n",
        "(0.0, 0.0)\n",
        "This drawdown will continue, and by the end of next year, our war in Afghanistan will be over.\n",
        "(0.0, 0.0)\n",
        "Beyond 2014, America's commitment to a unified and sovereign Afghanistan will endure, but the nature of our commitment will change.\n",
        "(0.0, 0.0)\n",
        "Likewise, the leaders of Iran must recognize that now is the time for a diplomatic solution, because a coalition stands united in demanding that they meet their obligations, and we will do what is necessary to prevent them from getting a nuclear weapon.\n",
        "(0.0, 1.0)\n",
        "At the same time, we'll engage Russia to seek further reductions in our nuclear arsenals and continue leading the global effort to secure nuclear materials that could fall into the wrong hands, because our ability to influence others depends on our willingness to lead and meet our obligations.\n",
        "(-0.019999999999999997, 0.425)\n",
        "\n"
       ]
      },
      {
       "output_type": "stream",
       "stream": "stdout",
       "text": [
        "2014\n",
        "7176"
       ]
      },
      {
       "output_type": "stream",
       "stream": "stdout",
       "text": [
        "\n",
        "And for the first time in over a decade, business leaders around the world have declared that China is no longer the world's number-one place to invest, America is.\n",
        "(0.25, 0.3333333333333333)"
       ]
      },
      {
       "output_type": "stream",
       "stream": "stdout",
       "text": [
        "\n",
        "We need to work together on tools like bipartisan trade promotion authority to protect our workers, protect our environment, and open new markets to new goods stamped \"Made in the U.S.A.\"\n",
        "\n",
        "Listen, China and Europe aren't standing on the sidelines, and neither should we.\n",
        "(0.0909090909090909, 0.4696969696969697)\n",
        "When I took office, nearly 180,000 Americans were serving in Iraq and Afghanistan."
       ]
      },
      {
       "output_type": "stream",
       "stream": "stdout",
       "text": [
        "\n",
        "(0.1, 0.4)\n",
        "When I took office, nearly 180,000 Americans were serving in Iraq and Afghanistan.\n",
        "(0.1, 0.4)\n",
        "Today, all our troops are out of Iraq.\n",
        "(0.0, 0.0)\n",
        "More than 60,000 of our troops have already come home from Afghanistan.\n",
        "(0.5, 0.5)\n",
        "After 2014, we will support a unified Afghanistan as it takes responsibility for its own future.\n",
        "(0.3, 0.5625)\n",
        "If the Afghan Government signs a security agreement that we have negotiated, a small force of Americans could remain in Afghanistan with NATO allies to carry out two narrow missions: training and assisting Afghan forces and counterterrorism operations to pursue any remnants of Al Qaida.\n",
        "(-0.225, 0.4)\n",
        "For while our relationship with Afghanistan will change, one thing will not: our resolve that terrorists do not launch attacks against our country.\n",
        "(0.0, 0.0)\n",
        "In Yemen, Somalia, Iraq, Mali, we have to keep working with partners to disrupt and disable those networks.\n",
        "(0.0, 0.0)\n",
        "And it is American diplomacy, backed by pressure, that has halted the progress of Iran's nuclear program and rolled back parts of that program for the very first time in a decade.\n",
        "(0.10833333333333334, 0.14444444444444446)\n",
        "As we gather here tonight, Iran has begun to eliminate its stockpile of higher levels of enriched uranium.\n",
        "(0.25, 0.5)\n",
        "Unprecedented inspections help the world verify every day that Iran is not building a bomb.\n",
        "(0.6, 0.9)\n",
        "And with our allies and partners, we're engaged in negotiations to see if we can peacefully achieve a goal we all share: preventing Iran from obtaining a nuclear weapon.\n",
        "(0.25, 0.5)\n",
        "We are clear eyed about Iran's support for terrorist organizations like Hizballah, which threatens our allies.\n",
        "(0.10000000000000002, 0.3833333333333333)\n",
        "Any long-term deal we agree to must be based on verifiable action that convinces us and the international community that Iran is not building a nuclear bomb."
       ]
      },
      {
       "output_type": "stream",
       "stream": "stdout",
       "text": [
        "\n",
        "(0.05, 0.05)\n",
        "If Iran's leaders do not seize this opportunity, then I will be the first to call for more sanctions and stand ready to exercise all options to make sure Iran does not build a nuclear weapon.\n",
        "(0.3625, 0.5555555555555556)\n",
        "But if Iran's leaders do seize the chance\u2014and we'll know soon enough\u2014then Iran could take an important step to rejoin the community of nations, and we will have resolved one of the leading security challenges of our time without the risks of war.\n",
        "(0.4, 1.0)\n",
        "A few months later, on his 10th deployment, Cory was nearly killed by a massive roadside bomb in Afghanistan.\n",
        "(-0.025, 0.375)\n",
        "\n",
        "2015\n",
        "6948"
       ]
      },
      {
       "output_type": "stream",
       "stream": "stdout",
       "text": [
        "\n",
        "Tonight, for the first time since 9/11, our combat mission in Afghanistan is over.\n",
        "(0.25, 0.3333333333333333)\n",
        "Six years ago, nearly 180,000 American troops served in Iraq and Afghanistan.\n",
        "(0.05, 0.2)\n",
        "Six years ago, nearly 180,000 American troops served in Iraq and Afghanistan.\n",
        "(0.05, 0.2)\n",
        "But as we speak, China wants to write the rules for the world's fastest growing region."
       ]
      },
      {
       "output_type": "stream",
       "stream": "stdout",
       "text": [
        "\n",
        "(0.2, 0.1)\n",
        "More than half of manufacturing executives have said they're actively looking to bring jobs back from China.\n",
        "(0.05000000000000001, 0.31666666666666665)\n",
        "Instead of Americans patrolling the valleys of Afghanistan, we've trained their security forces, who have now taken the lead, and we've honored our troops' sacrifice by supporting that country's first democratic transition.\n",
        "(0.25, 0.29166666666666663)\n",
        "In Iraq and Syria, American leadership\u2014including our military power\u2014is stopping ISIL's advance.\n",
        "(-0.05, 0.05)\n",
        "[Laughter] Well, today, it is America that stands strong and united with our allies, while Russia is isolated with its economy in tatters.\n",
        "(0.4333333333333333, 0.7333333333333333)\n",
        "Our diplomacy is at work with respect to Iran, where, for the first time in a decade, we've halted the progress of its nuclear program and reduced its stockpile of nuclear material.\n",
        "(0.25, 0.3333333333333333)\n",
        "Between now and this spring, we have a chance to negotiate a comprehensive agreement that prevents a nuclear-armed Iran, secures America and our allies, including Israel, while avoiding yet another Middle East conflict.\n",
        "(0.0, 0.0)\n",
        "There are no guarantees that negotiations will succeed, and I keep all options on the table to prevent a nuclear Iran.\n",
        "(0.0, 0.0)\n",
        "But new sanctions passed by this Congress, at this moment in time, will all but guarantee that diplomacy fails: alienating America from its allies, making it harder to maintain sanctions, and ensuring that Iran starts up its nuclear program again.\n",
        "(-0.1909090909090909, 0.2636363636363636)\n",
        "And China committed, for the first time, to limiting their emissions."
       ]
      },
      {
       "output_type": "stream",
       "stream": "stdout",
       "text": [
        "\n",
        "(0.25, 0.3333333333333333)\n",
        "\n"
       ]
      }
     ],
     "prompt_number": 283
    },
    {
     "cell_type": "code",
     "collapsed": false,
     "input": [],
     "language": "python",
     "metadata": {},
     "outputs": []
    }
   ],
   "metadata": {}
  }
 ]
}